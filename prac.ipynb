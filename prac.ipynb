{
 "cells": [
  {
   "cell_type": "code",
   "execution_count": 1,
   "id": "959f408c",
   "metadata": {},
   "outputs": [
    {
     "name": "stdout",
     "output_type": "stream",
     "text": [
      "Requirement already satisfied: pylatexenc in /Library/Frameworks/Python.framework/Versions/3.13/lib/python3.13/site-packages (2.10)\n",
      "Note: you may need to restart the kernel to use updated packages.\n"
     ]
    }
   ],
   "source": [
    "pip install pylatexenc"
   ]
  },
  {
   "cell_type": "code",
   "execution_count": 2,
   "id": "b8ea0b20",
   "metadata": {},
   "outputs": [
    {
     "name": "stdout",
     "output_type": "stream",
     "text": [
      "Requirement already satisfied: qiskit in /Library/Frameworks/Python.framework/Versions/3.13/lib/python3.13/site-packages (2.2.1)\n",
      "Requirement already satisfied: qiskit-aer in /Library/Frameworks/Python.framework/Versions/3.13/lib/python3.13/site-packages (0.17.2)\n",
      "Requirement already satisfied: rustworkx>=0.15.0 in /Library/Frameworks/Python.framework/Versions/3.13/lib/python3.13/site-packages (from qiskit) (0.17.1)\n",
      "Requirement already satisfied: numpy<3,>=1.17 in /Library/Frameworks/Python.framework/Versions/3.13/lib/python3.13/site-packages (from qiskit) (2.3.3)\n",
      "Requirement already satisfied: scipy>=1.5 in /Library/Frameworks/Python.framework/Versions/3.13/lib/python3.13/site-packages (from qiskit) (1.16.2)\n",
      "Requirement already satisfied: dill>=0.3 in /Library/Frameworks/Python.framework/Versions/3.13/lib/python3.13/site-packages (from qiskit) (0.4.0)\n",
      "Requirement already satisfied: stevedore>=3.0.0 in /Library/Frameworks/Python.framework/Versions/3.13/lib/python3.13/site-packages (from qiskit) (5.5.0)\n",
      "Requirement already satisfied: typing-extensions in /Library/Frameworks/Python.framework/Versions/3.13/lib/python3.13/site-packages (from qiskit) (4.15.0)\n",
      "Requirement already satisfied: psutil>=5 in /Users/sakshamlodha/Library/Python/3.13/lib/python/site-packages (from qiskit-aer) (7.1.0)\n",
      "Requirement already satisfied: python-dateutil>=2.8.0 in /Users/sakshamlodha/Library/Python/3.13/lib/python/site-packages (from qiskit-aer) (2.9.0.post0)\n",
      "Requirement already satisfied: six>=1.5 in /Users/sakshamlodha/Library/Python/3.13/lib/python/site-packages (from python-dateutil>=2.8.0->qiskit-aer) (1.17.0)\n",
      "Note: you may need to restart the kernel to use updated packages.\n"
     ]
    }
   ],
   "source": [
    "pip install qiskit qiskit-aer"
   ]
  },
  {
   "cell_type": "markdown",
   "id": "ed8ee81b",
   "metadata": {},
   "source": []
  },
  {
   "cell_type": "code",
   "execution_count": 3,
   "id": "1e1fea20",
   "metadata": {},
   "outputs": [
    {
     "name": "stdout",
     "output_type": "stream",
     "text": [
      "Measurement Results: {'1101': 2000}\n",
      "Most frequent output (secret string): 1101\n"
     ]
    },
    {
     "data": {
      "image/png": "[encoded data removed]",
      "text/plain": [
       "<Figure size 956.385x535.111 with 1 Axes>"
      ]
     },
     "execution_count": 3,
     "metadata": {},
     "output_type": "execute_result"
    }
   ],
   "source": [
    "from qiskit import QuantumCircuit, transpile\n",
    "from qiskit_aer import Aer\n",
    "from qiskit.visualization import plot_histogram\n",
    "\n",
    "s = '1101'\n",
    "n = len(s)\n",
    "\n",
    "bv = QuantumCircuit(n + 1, n)\n",
    "\n",
    "bv.x(n)\n",
    "bv.h(n)\n",
    "\n",
    "bv.h(range(n))\n",
    "\n",
    "for i, bit in enumerate(reversed(s)):\n",
    "    if bit == '1':\n",
    "        bv.cx(i, n) \n",
    "        \n",
    "bv.h(range(n))\n",
    "\n",
    "bv.measure(range(n), range(n))\n",
    "\n",
    "simulator = Aer.get_backend('aer_simulator')\n",
    "bv_compiled = transpile(bv, simulator)\n",
    "job = simulator.run(bv_compiled, shots=2000)\n",
    "result = job.result()\n",
    "counts = result.get_counts()\n",
    "\n",
    "print(f\"Measurement Results: {counts}\")\n",
    "\n",
    "most_frequent = max(counts, key=counts.get)\n",
    "print(f\"Most frequent output (secret string): {most_frequent}\")\n",
    "bv.draw('mpl') \n"
   ]
  },
  {
   "cell_type": "code",
   "execution_count": null,
   "id": "3c2db810",
   "metadata": {},
   "outputs": [],
   "source": []
  },
  {
   "cell_type": "code",
   "execution_count": null,
   "id": "51a0f148",
   "metadata": {},
   "outputs": [],
   "source": []
  },
  {
   "cell_type": "code",
   "execution_count": null,
   "id": "e5852608",
   "metadata": {},
   "outputs": [],
   "source": []
  },
  {
   "cell_type": "code",
   "execution_count": null,
   "id": "5b7c05b7",
   "metadata": {},
   "outputs": [],
   "source": []
  }
 ],
 "metadata": {
  "kernelspec": {
   "display_name": "Python 3",
   "language": "python",
   "name": "python3"
  },
  "language_info": {
   "codemirror_mode": {
    "name": "ipython",
    "version": 3
   },
   "file_extension": ".py",
   "mimetype": "text/x-python",
   "name": "python",
   "nbconvert_exporter": "python",
   "pygments_lexer": "ipython3",
   "version": "3.13.7"
  }
 },
 "nbformat": 4,
 "nbformat_minor": 5
}
